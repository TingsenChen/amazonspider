{
 "cells": [
  {
   "cell_type": "code",
   "execution_count": 21,
   "metadata": {},
   "outputs": [],
   "source": [
    "import requests\n",
    "from lxml import etree\n",
    "import random\n",
    "from selenium import webdriver\n",
    "from webdriver_manager.chrome import ChromeDriverManager\n",
    "import os\n"
   ]
  },
  {
   "attachments": {},
   "cell_type": "markdown",
   "metadata": {},
   "source": [
    "#### Asin / Product"
   ]
  },
  {
   "cell_type": "code",
   "execution_count": 2,
   "metadata": {},
   "outputs": [],
   "source": [
    "asin = \"B09YHKWJW5\"\n",
    "url = f\"https://www.amazon.com/dp/{asin}/\"\n",
    "proxies = \"helenovang:F9JGauUE@196.19.106.140:22487\""
   ]
  },
  {
   "cell_type": "code",
   "execution_count": 17,
   "metadata": {},
   "outputs": [],
   "source": [
    "user_list = [\n",
    "            \"Mozilla/4.0 (compatible; MSIE 6.0; Windows NT 5.1; SV1; AcooBrowser; .NET CLR 1.1.4322; .NET CLR 2.0.50727)\",\n",
    "            \"Mozilla/4.0 (compatible; MSIE 7.0; Windows NT 6.0; Acoo Browser; SLCC1; .NET CLR 2.0.50727; Media Center PC 5.0; .NET CLR 3.0.04506)\",\n",
    "            \"Mozilla/4.0 (compatible; MSIE 7.0; AOL 9.5; AOLBuild 4337.35; Windows NT 5.1; .NET CLR 1.1.4322; .NET CLR 2.0.50727)\",\n",
    "            \"Mozilla/5.0 (Windows; U; MSIE 9.0; Windows NT 9.0; en-US)\",\n",
    "            \"Mozilla/5.0 (compatible; MSIE 9.0; Windows NT 6.1; Win64; x64; Trident/5.0; .NET CLR 3.5.30729; .NET CLR 3.0.30729; .NET CLR 2.0.50727; Media Center PC 6.0)\",\n",
    "            \"Mozilla/5.0 (compatible; MSIE 8.0; Windows NT 6.0; Trident/4.0; WOW64; Trident/4.0; SLCC2; .NET CLR 2.0.50727; .NET CLR 3.5.30729; .NET CLR 3.0.30729; .NET CLR 1.0.3705; .NET CLR 1.1.4322)\",\n",
    "            \"Mozilla/4.0 (compatible; MSIE 7.0b; Windows NT 5.2; .NET CLR 1.1.4322; .NET CLR 2.0.50727; InfoPath.2; .NET CLR 3.0.04506.30)\",\n",
    "            \"Mozilla/5.0 (Windows; U; Windows NT 5.1; zh-CN) AppleWebKit/523.15 (KHTML, like Gecko, Safari/419.3) Arora/0.3 (Change: 287 c9dfb30)\",\n",
    "            \"Mozilla/5.0 (X11; U; Linux; en-US) AppleWebKit/527+ (KHTML, like Gecko, Safari/419.3) Arora/0.6\",\n",
    "            \"Mozilla/5.0 (Windows; U; Windows NT 5.1; en-US; rv:1.8.1.2pre) Gecko/20070215 K-Ninja/2.1.1\",\n",
    "            \"Mozilla/5.0 (Windows; U; Windows NT 5.1; zh-CN; rv:1.9) Gecko/20080705 Firefox/3.0 Kapiko/3.0\",\n",
    "            \"Mozilla/5.0 (X11; Linux i686; U;) Gecko/20070322 Kazehakase/0.4.5\",\n",
    "            \"Mozilla/5.0 (X11; U; Linux i686; en-US; rv:1.9.0.8) Gecko Fedora/1.9.0.8-1.fc10 Kazehakase/0.5.6\",\n",
    "            \"Mozilla/5.0 (Windows NT 6.1; WOW64) AppleWebKit/535.11 (KHTML, like Gecko) Chrome/17.0.963.56 Safari/535.11\",\n",
    "            \"Mozilla/5.0 (Macintosh; Intel Mac OS X 10_7_3) AppleWebKit/535.20 (KHTML, like Gecko) Chrome/19.0.1036.7 Safari/535.20\",\n",
    "            \"Opera/9.80 (Macintosh; Intel Mac OS X 10.6.8; U; fr) Presto/2.9.168 Version/11.52\"\n",
    "            ]"
   ]
  },
  {
   "cell_type": "code",
   "execution_count": 18,
   "metadata": {},
   "outputs": [],
   "source": [
    "headers = {'User-Agent': random.choice(user_list)}"
   ]
  },
  {
   "cell_type": "code",
   "execution_count": 19,
   "metadata": {},
   "outputs": [],
   "source": [
    "response = requests.get(url, proxies={\"http\":\"http://\" + proxies}, headers = headers)"
   ]
  },
  {
   "cell_type": "code",
   "execution_count": 20,
   "metadata": {},
   "outputs": [
    {
     "data": {
      "text/plain": [
       "'<!DOCTYPE html>\\n<!--[if lt IE 7]> <html lang=\"en-us\" class=\"a-no-js a-lt-ie9 a-lt-ie8 a-lt-ie7\"> <![endif]-->\\n<!--[if IE 7]>    <html lang=\"en-us\" class=\"a-no-js a-lt-ie9 a-lt-ie8\"> <![endif]-->\\n<!--[if IE 8]>    <html lang=\"en-us\" class=\"a-no-js a-lt-ie9\"> <![endif]-->\\n<!--[if gt IE 8]><!-->\\n<html class=\"a-no-js\" lang=\"en-us\"><!--<![endif]--><head>\\n<meta http-equiv=\"content-type\" content=\"text/html; charset=UTF-8\">\\n<meta charset=\"utf-8\">\\n<meta http-equiv=\"X-UA-Compatible\" content=\"IE=edge,chrome=1\">\\n<title dir=\"ltr\">Amazon.com</title>\\n<meta name=\"viewport\" content=\"width=device-width\">\\n<link rel=\"stylesheet\" href=\"https://images-na.ssl-images-amazon.com/images/G/01/AUIClients/AmazonUI-3c913031596ca78a3768f4e934b1cc02ce238101.secure.min._V1_.css\">\\n<script>\\n\\nif (true === true) {\\n    var ue_t0 = (+ new Date()),\\n        ue_csm = window,\\n        ue = { t0: ue_t0, d: function() { return (+new Date() - ue_t0); } },\\n        ue_furl = \"fls-na.amazon.com\",\\n        ue_mid = \"ATVPDKIKX0DER\",\\n        ue_sid = (document.cookie.match(/session-id=([0-9-]+)/) || [])[1],\\n        ue_sn = \"opfcaptcha.amazon.com\",\\n        ue_id = \\'YFSBWKQ89HAAVN2Q294B\\';\\n}\\n</script>\\n</head>\\n<body>\\n\\n<!--\\n        To discuss automated access to Amazon data please contact api-services-support@amazon.com.\\n        For information about migrating to our APIs refer to our Marketplace APIs at https://developer.amazonservices.com/ref=rm_c_sv, or our Product Advertising API at https://affiliate-program.amazon.com/gp/advertising/api/detail/main.html/ref=rm_c_ac for advertising use cases.\\n-->\\n\\n<!--\\nCorreios.DoNotSend\\n-->\\n\\n<div class=\"a-container a-padding-double-large\" style=\"min-width:350px;padding:44px 0 !important\">\\n\\n    <div class=\"a-row a-spacing-double-large\" style=\"width: 350px; margin: 0 auto\">\\n\\n        <div class=\"a-row a-spacing-medium a-text-center\"><i class=\"a-icon a-logo\"></i></div>\\n\\n        <div class=\"a-box a-alert a-alert-info a-spacing-base\">\\n            <div class=\"a-box-inner\">\\n                <i class=\"a-icon a-icon-alert\"></i>\\n                <h4>Enter the characters you see below</h4>\\n                <p class=\"a-last\">Sorry, we just need to make sure you\\'re not a robot. For best results, please make sure your browser is accepting cookies.</p>\\n                </div>\\n            </div>\\n\\n            <div class=\"a-section\">\\n\\n                <div class=\"a-box a-color-offset-background\">\\n                    <div class=\"a-box-inner a-padding-extra-large\">\\n\\n                        <form method=\"get\" action=\"/errors/validateCaptcha\" name=\"\">\\n                            <input type=hidden name=\"amzn\" value=\"Mrt4RqkDGAtBEPX3IHImGw==\" /><input type=hidden name=\"amzn-r\" value=\"&#047;dp&#047;B09YHKWJW5&#047;\" />\\n                            <div class=\"a-row a-spacing-large\">\\n                                <div class=\"a-box\">\\n                                    <div class=\"a-box-inner\">\\n                                        <h4>Type the characters you see in this image:</h4>\\n                                        <div class=\"a-row a-text-center\">\\n                                            <img src=\"https://images-na.ssl-images-amazon.com/captcha/wxvwzfzh/Captcha_edpcftzokb.jpg\">\\n                                        </div>\\n                                        <div class=\"a-row a-spacing-base\">\\n                                            <div class=\"a-row\">\\n                                                <div class=\"a-column a-span6\">\\n                                                </div>\\n                                                <div class=\"a-column a-span6 a-span-last a-text-right\">\\n                                                    <a onclick=\"window.location.reload()\">Try different image</a>\\n                                                </div>\\n                                            </div>\\n                                            <input autocomplete=\"off\" spellcheck=\"false\" placeholder=\"Type characters\" id=\"captchacharacters\" name=\"field-keywords\" class=\"a-span12\" autocapitalize=\"off\" autocorrect=\"off\" type=\"text\">\\n                                        </div>\\n                                    </div>\\n                                </div>\\n                            </div>\\n\\n                            <div class=\"a-section a-spacing-extra-large\">\\n\\n                                <div class=\"a-row\">\\n                                    <span class=\"a-button a-button-primary a-span12\">\\n                                        <span class=\"a-button-inner\">\\n                                            <button type=\"submit\" class=\"a-button-text\">Continue shopping</button>\\n                                        </span>\\n                                    </span>\\n                                </div>\\n\\n                            </div>\\n                        </form>\\n\\n                    </div>\\n                </div>\\n\\n            </div>\\n\\n        </div>\\n\\n        <div class=\"a-divider a-divider-section\"><div class=\"a-divider-inner\"></div></div>\\n\\n        <div class=\"a-text-center a-spacing-small a-size-mini\">\\n            <a href=\"https://www.amazon.com/gp/help/customer/display.html/ref=footer_cou?ie=UTF8&nodeId=508088\">Conditions of Use</a>\\n            <span class=\"a-letter-space\"></span>\\n            <span class=\"a-letter-space\"></span>\\n            <span class=\"a-letter-space\"></span>\\n            <span class=\"a-letter-space\"></span>\\n            <a href=\"https://www.amazon.com/gp/help/customer/display.html/ref=footer_privacy?ie=UTF8&nodeId=468496\">Privacy Policy</a>\\n        </div>\\n        <div class=\"a-text-center a-size-mini a-color-secondary\">\\n          &copy; 1996-2014, Amazon.com, Inc. or its affiliates\\n          <script>\\n           if (true === true) {\\n             document.write(\\'<img src=\"https://fls-na.amaz\\'+\\'on.com/\\'+\\'1/oc-csi/1/OP/requestId=YFSBWKQ89HAAVN2Q294B&js=1\" />\\');\\n           };\\n          </script>\\n          <noscript>\\n            <img src=\"https://fls-na.amazon.com/1/oc-csi/1/OP/requestId=YFSBWKQ89HAAVN2Q294B&js=0\" />\\n          </noscript>\\n        </div>\\n    </div>\\n    <script>\\n    if (true === true) {\\n        var head = document.getElementsByTagName(\\'head\\')[0],\\n            prefix = \"https://images-na.ssl-images-amazon.com/images/G/01/csminstrumentation/\",\\n            elem = document.createElement(\"script\");\\n        elem.src = prefix + \"csm-captcha-instrumentation.min.js\";\\n        head.appendChild(elem);\\n\\n        elem = document.createElement(\"script\");\\n        elem.src = prefix + \"rd-script-6d68177fa6061598e9509dc4b5bdd08d.js\";\\n        head.appendChild(elem);\\n    }\\n    </script>\\n</body></html>\\n'"
      ]
     },
     "execution_count": 20,
     "metadata": {},
     "output_type": "execute_result"
    }
   ],
   "source": [
    "response.text"
   ]
  },
  {
   "attachments": {},
   "cell_type": "markdown",
   "metadata": {},
   "source": [
    "#### chromedriver test"
   ]
  },
  {
   "cell_type": "code",
   "execution_count": 25,
   "metadata": {},
   "outputs": [
    {
     "name": "stderr",
     "output_type": "stream",
     "text": [
      "\n",
      "\n",
      "====== WebDriver manager ======\n",
      "Current google-chrome version is 113.0.5672\n",
      "Get LATEST chromedriver version for 113.0.5672 google-chrome\n",
      "Driver [C:\\Users\\zhili\\.wdm\\drivers\\chromedriver\\win32\\113.0.5672.63\\chromedriver.exe] found in cache\n"
     ]
    }
   ],
   "source": [
    "option = webdriver.ChromeOptions()\n",
    "\n",
    "#     if not os.path.exists(download_path):\n",
    "#             os.makedirs(download_path)\n",
    "\n",
    "#     prefs = {'download.default_directory': download_path}\n",
    "#     option.add_experimental_option('prefs', prefs)\n",
    "option.add_argument('--no-sandbox')\n",
    "option.add_argument('--proxy-server={0}'.format(\"http://\"+proxies))\n",
    "option.add_argument('ignore-certificate-errors')\n",
    "# option.add_argument('--port=50050')\n",
    "# option.add_argument(f\"user-data-dir={chrome_config_path}\")\n",
    "# option.add_argument(\"--proxy-server=http://196.19.106.130:62328\")\n",
    "# option.add_argument(\"blink-settings=imagesEnabled=false\")\n",
    "driver = webdriver.Chrome(ChromeDriverManager().install(), options=option)\n",
    "driver.get(url)\n"
   ]
  },
  {
   "cell_type": "code",
   "execution_count": 27,
   "metadata": {},
   "outputs": [
    {
     "data": {
      "text/plain": [
       "'helenovang:F9JGauUE@196.19.106.140:22487'"
      ]
     },
     "execution_count": 27,
     "metadata": {},
     "output_type": "execute_result"
    }
   ],
   "source": [
    "proxies"
   ]
  },
  {
   "cell_type": "code",
   "execution_count": 33,
   "metadata": {},
   "outputs": [
    {
     "name": "stderr",
     "output_type": "stream",
     "text": [
      "\n",
      "\n",
      "====== WebDriver manager ======\n",
      "Current google-chrome version is 113.0.5672\n",
      "Get LATEST chromedriver version for 113.0.5672 google-chrome\n",
      "Driver [C:\\Users\\zhili\\.wdm\\drivers\\chromedriver\\win32\\113.0.5672.63\\chromedriver.exe] found in cache\n"
     ]
    }
   ],
   "source": [
    "from seleniumwire import webdriver\n",
    "from selenium.webdriver.chrome.service import Service as ChromeService\n",
    "from webdriver_manager.chrome import ChromeDriverManager\n",
    "from selenium.webdriver.common.by import By\n",
    "\n",
    "# Selenium Wire configuration to use a proxy\n",
    "proxy_username = 'helenovang'\n",
    "proxy_password = 'F9JGauUE'\n",
    "proxy_host = \"196.19.106.140\"\n",
    "proxy_port = \"22487\"\n",
    "seleniumwire_options = {\n",
    "    'proxy': {\n",
    "        'http': f'http://{proxy_username}:{proxy_password}@{proxy_host}:{proxy_port}',\n",
    "        'verify_ssl': False,\n",
    "    },\n",
    "}\n",
    "\n",
    "driver = webdriver.Chrome(ChromeDriverManager().install(),\n",
    "    seleniumwire_options=seleniumwire_options\n",
    ")\n",
    "# driver.get('http://httpbin.org/ip')\n",
    "# print(driver.find_element(By.TAG_NAME, 'body').text) # { \"origin\": \"185.199.229.156\" }\n"
   ]
  },
  {
   "cell_type": "code",
   "execution_count": 34,
   "metadata": {},
   "outputs": [
    {
     "name": "stderr",
     "output_type": "stream",
     "text": [
      "127.0.0.1:53344: Traceback (most recent call last):\n",
      "  File \"d:\\Anaconda3\\lib\\site-packages\\seleniumwire\\thirdparty\\mitmproxy\\net\\tcp.py\", line 94, in write\n",
      "    r = self.o.write(v)\n",
      "  File \"d:\\Anaconda3\\lib\\socket.py\", line 722, in write\n",
      "    return self._sock.send(b)\n",
      "ConnectionAbortedError: [WinError 10053] An established connection was aborted by the software in your host machine\n",
      "\n",
      "During handling of the above exception, another exception occurred:\n",
      "\n",
      "Traceback (most recent call last):\n",
      "  File \"d:\\Anaconda3\\lib\\site-packages\\seleniumwire\\thirdparty\\mitmproxy\\server\\server.py\", line 113, in handle\n",
      "    root_layer()\n",
      "  File \"d:\\Anaconda3\\lib\\site-packages\\seleniumwire\\thirdparty\\mitmproxy\\server\\modes\\http_proxy.py\", line 23, in __call__\n",
      "    layer()\n",
      "  File \"d:\\Anaconda3\\lib\\site-packages\\seleniumwire\\thirdparty\\mitmproxy\\server\\protocol\\tls.py\", line 285, in __call__\n",
      "    layer()\n",
      "  File \"d:\\Anaconda3\\lib\\site-packages\\seleniumwire\\thirdparty\\mitmproxy\\server\\protocol\\http1.py\", line 100, in __call__\n",
      "    layer()\n",
      "  File \"d:\\Anaconda3\\lib\\site-packages\\seleniumwire\\thirdparty\\mitmproxy\\server\\protocol\\http.py\", line 206, in __call__\n",
      "    if not self._process_flow(flow):\n",
      "  File \"d:\\Anaconda3\\lib\\site-packages\\seleniumwire\\thirdparty\\mitmproxy\\server\\protocol\\http.py\", line 288, in _process_flow\n",
      "    return self.handle_upstream_connect(f)\n",
      "  File \"d:\\Anaconda3\\lib\\site-packages\\seleniumwire\\thirdparty\\mitmproxy\\server\\protocol\\http.py\", line 251, in handle_upstream_connect\n",
      "    self.send_response(f.response)\n",
      "  File \"d:\\Anaconda3\\lib\\site-packages\\seleniumwire\\thirdparty\\mitmproxy\\server\\protocol\\http.py\", line 54, in send_response\n",
      "    self.send_response_body(response, [response.data.content])\n",
      "  File \"d:\\Anaconda3\\lib\\site-packages\\seleniumwire\\thirdparty\\mitmproxy\\server\\protocol\\http1.py\", line 72, in send_response_body\n",
      "    self.client_conn.wfile.write(chunk)\n",
      "  File \"d:\\Anaconda3\\lib\\site-packages\\seleniumwire\\thirdparty\\mitmproxy\\net\\tcp.py\", line 98, in write\n",
      "    raise exceptions.TcpDisconnect(str(e))\n",
      "seleniumwire.thirdparty.mitmproxy.exceptions.TcpDisconnect: [WinError 10053] An established connection was aborted by the software in your host machine\n",
      "\n"
     ]
    }
   ],
   "source": [
    "driver.get(url)"
   ]
  },
  {
   "cell_type": "code",
   "execution_count": null,
   "metadata": {},
   "outputs": [],
   "source": []
  }
 ],
 "metadata": {
  "kernelspec": {
   "display_name": "base",
   "language": "python",
   "name": "python3"
  },
  "language_info": {
   "codemirror_mode": {
    "name": "ipython",
    "version": 3
   },
   "file_extension": ".py",
   "mimetype": "text/x-python",
   "name": "python",
   "nbconvert_exporter": "python",
   "pygments_lexer": "ipython3",
   "version": "3.9.7"
  },
  "orig_nbformat": 4
 },
 "nbformat": 4,
 "nbformat_minor": 2
}
